{
 "cells": [
  {
   "cell_type": "code",
   "execution_count": 13,
   "metadata": {
    "id": "fyHPvlWO2bAZ"
   },
   "outputs": [],
   "source": [
    "#Name :Nalawade Prafulla Chandrashekhar.\n",
    "#class: B.E.A.I & D.S.\n",
    "#Roll No:42\n",
    "#Subject : Deep Learning (CL-IV)"
   ]
  },
  {
   "cell_type": "code",
   "execution_count": 14,
   "metadata": {
    "id": "JC8XLoSh3Gev"
   },
   "outputs": [],
   "source": [
    "# Problem Statement : Generative Adversarial Networks (GANs) are a type of deep learning model used for image\n",
    "# generation. In this practical, we implement a Deep Convolutional GAN (DCGAN) to generate\n",
    "# realistic images of faces or digits based on an input dataset, such as MNIST (handwritten digits) or\n",
    "# CelebA (human faces)."
   ]
  },
  {
   "cell_type": "code",
   "execution_count": 15,
   "metadata": {
    "id": "sGAMX6gD3GhF"
   },
   "outputs": [],
   "source": [
    "# Import necessary libraries\n",
    "import torch\n",
    "import torch.nn as nn\n",
    "import torch.optim as optim\n",
    "import tensorflow as tf\n",
    "from tensorflow.keras import layers\n",
    "from torchvision import datasets, transforms, utils\n",
    "from torch.utils.data import DataLoader\n",
    "import matplotlib.pyplot as plt\n",
    "import numpy as np\n",
    "import os\n",
    "import time"
   ]
  },
  {
   "cell_type": "code",
   "execution_count": 32,
   "metadata": {
    "id": "8YFM2nrb3Gi9"
   },
   "outputs": [],
   "source": [
    "# Load and preprocess MNIST\n",
    "(train_images, _), (_, _) = tf.keras.datasets.mnist.load_data()\n",
    "train_images = train_images.reshape(train_images.shape[0], 28, 28, 1).astype('float32')\n",
    "train_images = (train_images - 127.5) / 127.5  # Normalize to [-1, 1]\n",
    "BUFFER_SIZE = 60000\n",
    "BATCH_SIZE = 256\n",
    "\n",
    "train_dataset = tf.data.Dataset.from_tensor_slices(train_images).shuffle(BUFFER_SIZE).batch(BATCH_SIZE)\n"
   ]
  },
  {
   "cell_type": "code",
   "execution_count": 17,
   "metadata": {
    "id": "itRX1L8c3Gk9"
   },
   "outputs": [],
   "source": [
    "# Generator Model\n",
    "def make_generator_model():\n",
    "    model = tf.keras.Sequential([\n",
    "        layers.Dense(7*7*256, use_bias=False, input_shape=(100,)),\n",
    "        layers.BatchNormalization(),\n",
    "        layers.LeakyReLU(),\n",
    "\n",
    "        layers.Reshape((7, 7, 256)),\n",
    "        layers.Conv2DTranspose(128, (5, 5), strides=(1, 1), padding='same', use_bias=False),\n",
    "        layers.BatchNormalization(),\n",
    "        layers.LeakyReLU(),\n",
    "\n",
    "        layers.Conv2DTranspose(64, (5, 5), strides=(2, 2), padding='same', use_bias=False),\n",
    "        layers.BatchNormalization(),\n",
    "        layers.LeakyReLU(),\n",
    "\n",
    "        layers.Conv2DTranspose(1, (5, 5), strides=(2, 2), padding='same', use_bias=False, activation='tanh')\n",
    "    ])\n",
    "    return model"
   ]
  },
  {
   "cell_type": "code",
   "execution_count": 18,
   "metadata": {
    "id": "iSElxVCs3GnN"
   },
   "outputs": [],
   "source": [
    "# Discriminator model\n",
    "def make_discriminator_model():\n",
    "    model = tf.keras.Sequential()\n",
    "    model.add(layers.Conv2D(64, (5, 5), strides=(2, 2), padding='same',\n",
    "                                     input_shape=[28, 28, 1]))\n",
    "    model.add(layers.LeakyReLU())\n",
    "    model.add(layers.Dropout(0.3))\n",
    "\n",
    "    model.add(layers.Conv2D(128, (5, 5), strides=(2, 2), padding='same'))\n",
    "    model.add(layers.LeakyReLU())\n",
    "    model.add(layers.Dropout(0.3))\n",
    "\n",
    "    model.add(layers.Flatten())\n",
    "    model.add(layers.Dense(1))\n",
    "    return model\n"
   ]
  },
  {
   "cell_type": "code",
   "execution_count": 19,
   "metadata": {
    "id": "M2IpwMATOjSi"
   },
   "outputs": [],
   "source": [
    "# Loss and optimizers\n",
    "cross_entropy = tf.keras.losses.BinaryCrossentropy(from_logits=True)\n",
    "\n",
    "def discriminator_loss(real_output, fake_output):\n",
    "    real_loss = cross_entropy(tf.ones_like(real_output), real_output)\n",
    "    fake_loss = cross_entropy(tf.zeros_like(fake_output), fake_output)\n",
    "    total_loss = real_loss + fake_loss\n",
    "    return total_loss\n",
    "\n",
    "def generator_loss(fake_output):\n",
    "    return cross_entropy(tf.ones_like(fake_output), fake_output)\n",
    "\n",
    "generator = make_generator_model()\n",
    "discriminator = make_discriminator_model()\n",
    "\n",
    "generator_optimizer = tf.keras.optimizers.Adam(1e-4)\n",
    "discriminator_optimizer = tf.keras.optimizers.Adam(1e-4)"
   ]
  },
  {
   "cell_type": "code",
   "execution_count": 28,
   "metadata": {
    "id": "zwHjTkN3OjPK"
   },
   "outputs": [],
   "source": [
    "# Training constants\n",
    "EPOCHS = 50\n",
    "noise_dim = 100\n",
    "num_examples_to_generate = 16\n"
   ]
  },
  {
   "cell_type": "code",
   "execution_count": 21,
   "metadata": {
    "id": "BIOW7qReOjGN"
   },
   "outputs": [],
   "source": [
    "    # Seed for visualization\n",
    "seed = tf.random.normal([num_examples_to_generate, noise_dim])\n"
   ]
  },
  {
   "cell_type": "code",
   "execution_count": 22,
   "metadata": {
    "id": "rxL7029TCXeM"
   },
   "outputs": [],
   "source": [
    "# Training step\n",
    "@tf.function\n",
    "def train_step(images):\n",
    "    noise = tf.random.normal([BATCH_SIZE, noise_dim])\n",
    "\n",
    "    with tf.GradientTape() as gen_tape, tf.GradientTape() as disc_tape:\n",
    "        generated_images = generator(noise, training=True)\n",
    "\n",
    "        real_output = discriminator(images, training=True)\n",
    "        fake_output = discriminator(generated_images, training=True)\n",
    "\n",
    "        gen_loss = generator_loss(fake_output)\n",
    "        disc_loss = discriminator_loss(real_output, fake_output)\n",
    "\n",
    "    gradients_of_generator = gen_tape.gradient(gen_loss, generator.trainable_variables)\n",
    "    gradients_of_discriminator = disc_tape.gradient(disc_loss, discriminator.trainable_variables)\n",
    "\n",
    "    generator_optimizer.apply_gradients(zip(gradients_of_generator, generator.trainable_variables))\n",
    "    discriminator_optimizer.apply_gradients(zip(gradients_of_discriminator, discriminator.trainable_variables))\n"
   ]
  },
  {
   "cell_type": "code",
   "execution_count": 23,
   "metadata": {
    "id": "Oe9apxZUlEIp"
   },
   "outputs": [],
   "source": [
    "# Save generated images\n",
    "def generate_and_save_images(model, epoch, test_input):\n",
    "    predictions = model(test_input, training=False)\n",
    "\n",
    "    fig = plt.figure(figsize=(4,4))\n",
    "    for i in range(predictions.shape[0]):\n",
    "        plt.subplot(4, 4, i+1)\n",
    "        plt.imshow(predictions[i, :, :, 0] * 127.5 + 127.5, cmap='gray')\n",
    "        plt.axis('off')\n",
    "\n",
    "    if not os.path.exists('images'):\n",
    "        os.makedirs('images')\n",
    "    plt.savefig('images/image_at_epoch_{:04d}.png'.format(epoch))\n",
    "    plt.close()"
   ]
  },
  {
   "cell_type": "code",
   "execution_count": 24,
   "metadata": {
    "colab": {
     "base_uri": "https://localhost:8080/"
    },
    "id": "gPRFvNL7mnXY",
    "outputId": "74344137-664b-4b51-9438-61331528a6e0"
   },
   "outputs": [
    {
     "name": "stdout",
     "output_type": "stream",
     "text": [
      "Drive already mounted at /content/drive; to attempt to forcibly remount, call drive.mount(\"/content/drive\", force_remount=True).\n"
     ]
    }
   ],
   "source": [
    "from google.colab import drive\n",
    "drive.mount('/content/drive')"
   ]
  },
  {
   "cell_type": "code",
   "execution_count": 29,
   "metadata": {
    "id": "Iv9ykZ4ulESv"
   },
   "outputs": [],
   "source": [
    "# Training loop\n",
    "def train(dataset, epochs):\n",
    "    for epoch in range(1, epochs + 1):\n",
    "        start = time.time()\n",
    "\n",
    "        for image_batch in dataset:\n",
    "            train_step(image_batch)\n",
    "\n",
    "        if epoch % 10 == 0 or epoch == 1:\n",
    "            generate_and_save_images(generator, epoch, seed)\n",
    "\n",
    "        print ('Time for epoch {} is {:.2f} sec'.format(epoch, time.time()-start))\n"
   ]
  },
  {
   "cell_type": "code",
   "execution_count": 30,
   "metadata": {
    "colab": {
     "base_uri": "https://localhost:8080/"
    },
    "id": "05kVw3GzlEWn",
    "outputId": "3b7b6936-36e9-417d-8c35-16df1e6a5dfb"
   },
   "outputs": [
    {
     "name": "stdout",
     "output_type": "stream",
     "text": [
      "Time for epoch 1 is 13.09 sec\n",
      "Time for epoch 2 is 13.32 sec\n",
      "Time for epoch 3 is 13.44 sec\n",
      "Time for epoch 4 is 12.94 sec\n",
      "Time for epoch 5 is 12.76 sec\n",
      "Time for epoch 6 is 12.84 sec\n",
      "Time for epoch 7 is 12.78 sec\n",
      "Time for epoch 8 is 12.95 sec\n",
      "Time for epoch 9 is 13.02 sec\n",
      "Time for epoch 10 is 13.49 sec\n",
      "Time for epoch 11 is 12.88 sec\n",
      "Time for epoch 12 is 12.84 sec\n",
      "Time for epoch 13 is 12.84 sec\n",
      "Time for epoch 14 is 12.91 sec\n",
      "Time for epoch 15 is 12.92 sec\n",
      "Time for epoch 16 is 12.90 sec\n",
      "Time for epoch 17 is 12.87 sec\n",
      "Time for epoch 18 is 12.85 sec\n",
      "Time for epoch 19 is 12.86 sec\n",
      "Time for epoch 20 is 13.08 sec\n",
      "Time for epoch 21 is 12.92 sec\n",
      "Time for epoch 22 is 12.92 sec\n",
      "Time for epoch 23 is 12.90 sec\n",
      "Time for epoch 24 is 12.88 sec\n",
      "Time for epoch 25 is 12.87 sec\n",
      "Time for epoch 26 is 12.85 sec\n",
      "Time for epoch 27 is 12.85 sec\n",
      "Time for epoch 28 is 12.85 sec\n",
      "Time for epoch 29 is 12.83 sec\n",
      "Time for epoch 30 is 13.04 sec\n",
      "Time for epoch 31 is 12.86 sec\n",
      "Time for epoch 32 is 12.86 sec\n",
      "Time for epoch 33 is 12.86 sec\n",
      "Time for epoch 34 is 12.86 sec\n",
      "Time for epoch 35 is 12.87 sec\n",
      "Time for epoch 36 is 12.87 sec\n",
      "Time for epoch 37 is 12.86 sec\n",
      "Time for epoch 38 is 12.87 sec\n",
      "Time for epoch 39 is 12.87 sec\n",
      "Time for epoch 40 is 13.07 sec\n",
      "Time for epoch 41 is 12.88 sec\n",
      "Time for epoch 42 is 12.88 sec\n",
      "Time for epoch 43 is 12.87 sec\n",
      "Time for epoch 44 is 12.89 sec\n",
      "Time for epoch 45 is 12.87 sec\n",
      "Time for epoch 46 is 12.88 sec\n",
      "Time for epoch 47 is 12.89 sec\n",
      "Time for epoch 48 is 12.88 sec\n",
      "Time for epoch 49 is 12.90 sec\n",
      "Time for epoch 50 is 13.08 sec\n"
     ]
    }
   ],
   "source": [
    "# Train the GAN\n",
    "train(train_dataset, EPOCHS)\n"
   ]
  },
  {
   "cell_type": "code",
   "execution_count": 31,
   "metadata": {
    "colab": {
     "base_uri": "https://localhost:8080/",
     "height": 417
    },
    "id": "0txJb62YlQyW",
    "outputId": "be43e53a-599e-4896-b88a-5be6fe1c8951"
   },
   "outputs": [
    {
     "data": {
      "image/png": "[encoded data removed]",
      "text/plain": [
       "<IPython.core.display.Image object>"
      ]
     },
     "metadata": {},
     "output_type": "display_data"
    }
   ],
   "source": [
    "# Display a generated image after the final epoch\n",
    "import PIL\n",
    "from IPython.display import Image, display\n",
    "\n",
    "def display_final_image():\n",
    "    final_image_path = 'images/image_at_epoch_{:04d}.png'.format(EPOCHS)\n",
    "    display(Image(filename=final_image_path))\n",
    "\n",
    "display_final_image()"
   ]
  }
 ],
 "metadata": {
  "accelerator": "GPU",
  "colab": {
   "gpuType": "T4",
   "provenance": []
  },
  "kernelspec": {
   "display_name": "Python 3 (ipykernel)",
   "language": "python",
   "name": "python3"
  },
  "language_info": {
   "codemirror_mode": {
    "name": "ipython",
    "version": 3
   },
   "file_extension": ".py",
   "mimetype": "text/x-python",
   "name": "python",
   "nbconvert_exporter": "python",
   "pygments_lexer": "ipython3",
   "version": "3.11.5"
  }
 },
 "nbformat": 4,
 "nbformat_minor": 1
}
