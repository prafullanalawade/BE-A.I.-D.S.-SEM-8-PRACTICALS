{
 "cells": [
  {
   "cell_type": "code",
   "execution_count": null,
   "id": "90449e5c-c453-4697-8680-58af47b451ea",
   "metadata": {},
   "outputs": [],
   "source": [
    "# Name - Nalawade Prafulla Chandrashekhar.\n",
    "# Class - BE Artificial Intelligence and Data Science.\n",
    "# Roll No. - 42\n",
    "# Practical No. 06 - Implementation of Clonal selection algorithm using Python."
   ]
  },
  {
   "cell_type": "code",
   "execution_count": 1,
   "id": "4bd730bc-db61-4bc1-a0a2-4a1000137ea3",
   "metadata": {},
   "outputs": [],
   "source": [
    "# Import Required Libraries"
   ]
  },
  {
   "cell_type": "code",
   "execution_count": 2,
   "id": "11d92ecb-628b-4717-b4c7-180a2a684dcd",
   "metadata": {},
   "outputs": [],
   "source": [
    "import numpy as np\n",
    "import matplotlib.pyplot as plt\n"
   ]
  },
  {
   "cell_type": "code",
   "execution_count": 3,
   "id": "1f611298-e609-4bfe-b4fc-15c9a4e9f39f",
   "metadata": {},
   "outputs": [],
   "source": [
    "# Define the Objective Function"
   ]
  },
  {
   "cell_type": "code",
   "execution_count": 4,
   "id": "3c39db59-8687-432e-babf-aed095914b4f",
   "metadata": {},
   "outputs": [],
   "source": [
    "def objective_function(x):\n",
    "    return x**2 + 3*x + 5  # Example function to minimize\n"
   ]
  },
  {
   "cell_type": "code",
   "execution_count": 5,
   "id": "6a288a32-8712-4970-8422-1ca435eb5358",
   "metadata": {},
   "outputs": [],
   "source": [
    "# Initialize Population"
   ]
  },
  {
   "cell_type": "code",
   "execution_count": 6,
   "id": "d9f20e7f-009c-47a4-a79b-bc31cefe8cbd",
   "metadata": {},
   "outputs": [],
   "source": [
    "def initialize_population(size, lower_bound, upper_bound):\n",
    "    return np.random.uniform(lower_bound, upper_bound, size)\n"
   ]
  },
  {
   "cell_type": "code",
   "execution_count": 7,
   "id": "5f966caf-2c46-4293-a620-e0894e160a02",
   "metadata": {},
   "outputs": [],
   "source": [
    "# Evaluate Affinity (Fitness)"
   ]
  },
  {
   "cell_type": "code",
   "execution_count": 8,
   "id": "641c282d-162e-4052-b991-b3f0f5d9c980",
   "metadata": {},
   "outputs": [],
   "source": [
    "def evaluate_fitness(population):\n",
    "    return 1 / (1 + objective_function(population))  # Inverse for minimization\n"
   ]
  },
  {
   "cell_type": "code",
   "execution_count": 9,
   "id": "6fc007d5-c8fe-409a-8710-3c711c68e732",
   "metadata": {},
   "outputs": [],
   "source": [
    "# Select Best Antibodies"
   ]
  },
  {
   "cell_type": "code",
   "execution_count": 10,
   "id": "a7805490-91fc-498e-9204-2efc81f13c55",
   "metadata": {},
   "outputs": [],
   "source": [
    "def select_best(population, fitness, num_best):\n",
    "    sorted_indices = np.argsort(-fitness)  # Descending order\n",
    "    return population[sorted_indices[:num_best]]\n"
   ]
  },
  {
   "cell_type": "code",
   "execution_count": 11,
   "id": "207dacbc-6526-4b16-afc5-a89ecb29b908",
   "metadata": {},
   "outputs": [],
   "source": [
    "# Clone Selected Antibodies"
   ]
  },
  {
   "cell_type": "code",
   "execution_count": 12,
   "id": "e22f2327-7a3c-4ba5-85e0-62533c9414a3",
   "metadata": {},
   "outputs": [],
   "source": [
    "def clone_population(best_population, num_clones):\n",
    "    clones = np.repeat(best_population, num_clones)\n",
    "    return clones\n"
   ]
  },
  {
   "cell_type": "code",
   "execution_count": 13,
   "id": "8df43634-6c3a-4faa-969e-001ae569d290",
   "metadata": {},
   "outputs": [],
   "source": [
    "# Hypermutation (Random Mutation)"
   ]
  },
  {
   "cell_type": "code",
   "execution_count": 14,
   "id": "03609c71-3cae-4f63-968b-5c8b13734b2a",
   "metadata": {},
   "outputs": [],
   "source": [
    "def mutate(clones, mutation_rate):\n",
    "    mutation = np.random.uniform(-mutation_rate, mutation_rate, size=clones.shape)\n",
    "    return clones + mutation\n"
   ]
  },
  {
   "cell_type": "code",
   "execution_count": 15,
   "id": "5f92e1b6-2664-408f-b8b1-7d1b666ccf66",
   "metadata": {},
   "outputs": [],
   "source": [
    "# Replace Worst Solutions"
   ]
  },
  {
   "cell_type": "code",
   "execution_count": 16,
   "id": "ec2490d3-dc09-4ff1-972a-dfb055a21a6e",
   "metadata": {},
   "outputs": [],
   "source": [
    "def replace_worst(population, new_population, num_replace):\n",
    "    population[-num_replace:] = new_population[:num_replace]\n",
    "    return population\n"
   ]
  },
  {
   "cell_type": "code",
   "execution_count": 17,
   "id": "c60f1b3e-9742-4abb-9914-eb9f5e338b83",
   "metadata": {},
   "outputs": [],
   "source": [
    "#  Implement the Clonal Selection Algorithm"
   ]
  },
  {
   "cell_type": "code",
   "execution_count": 18,
   "id": "468b67ef-20f9-4ccd-b2be-a44d65fae0c0",
   "metadata": {},
   "outputs": [],
   "source": [
    "def clonal_selection_algorithm(pop_size=20, generations=50, num_best=5, num_clones=3, mutation_rate=0.1):\n",
    "    lower_bound, upper_bound = -10, 10\n",
    "    population = initialize_population(pop_size, lower_bound, upper_bound)\n",
    "    \n",
    "    best_fitness_history = []\n",
    "    \n",
    "    for generation in range(generations):\n",
    "        fitness = evaluate_fitness(population)\n",
    "        best_population = select_best(population, fitness, num_best)\n",
    "        clones = clone_population(best_population, num_clones)\n",
    "        mutated_clones = mutate(clones, mutation_rate)\n",
    "        \n",
    "        fitness_mutated = evaluate_fitness(mutated_clones)\n",
    "        best_mutated = select_best(mutated_clones, fitness_mutated, num_best)\n",
    "        \n",
    "        population = replace_worst(population, best_mutated, num_best)\n",
    "        \n",
    "        best_fitness_history.append(np.max(fitness))\n",
    "        \n",
    "        if generation % 10 == 0:\n",
    "            print(f\"Generation {generation}: Best fitness = {np.max(fitness)}\")\n",
    "    \n",
    "    return best_fitness_history, population\n"
   ]
  },
  {
   "cell_type": "code",
   "execution_count": 19,
   "id": "65f2413b-42bc-4041-bee8-d8528e36c7f6",
   "metadata": {},
   "outputs": [],
   "source": [
    "# Run the Algorithm"
   ]
  },
  {
   "cell_type": "code",
   "execution_count": 20,
   "id": "938b24bf-7e43-457c-9245-c0f638b143ba",
   "metadata": {},
   "outputs": [
    {
     "name": "stdout",
     "output_type": "stream",
     "text": [
      "Generation 0: Best fitness = 0.26660294930658407\n",
      "Generation 10: Best fitness = 0.2666665928732328\n",
      "Generation 20: Best fitness = 0.2666527224685652\n",
      "Generation 30: Best fitness = 0.2666666506484063\n",
      "Generation 40: Best fitness = 0.26666659323999936\n"
     ]
    }
   ],
   "source": [
    "best_fitness, final_population = clonal_selection_algorithm()\n"
   ]
  },
  {
   "cell_type": "code",
   "execution_count": 21,
   "id": "e4979d08-1859-4a18-8d42-8baa2272b0ae",
   "metadata": {},
   "outputs": [],
   "source": [
    "# Plot the Results"
   ]
  },
  {
   "cell_type": "code",
   "execution_count": 22,
   "id": "ac8fa4f0-d77d-4880-88e0-e84f7e91e10e",
   "metadata": {},
   "outputs": [
    {
     "data": {
      "image/png": "[encoded data removed]",
      "text/plain": [
       "<Figure size 640x480 with 1 Axes>"
      ]
     },
     "metadata": {},
     "output_type": "display_data"
    }
   ],
   "source": [
    "plt.plot(best_fitness)\n",
    "plt.xlabel('Generations')\n",
    "plt.ylabel('Best Fitness')\n",
    "plt.title('Clonal Selection Algorithm Performance')\n",
    "plt.show()\n"
   ]
  },
  {
   "cell_type": "code",
   "execution_count": null,
   "id": "594cab06-6a94-4dce-a4ed-b52ece671ed2",
   "metadata": {},
   "outputs": [],
   "source": []
  }
 ],
 "metadata": {
  "kernelspec": {
   "display_name": "Python 3 (ipykernel)",
   "language": "python",
   "name": "python3"
  },
  "language_info": {
   "codemirror_mode": {
    "name": "ipython",
    "version": 3
   },
   "file_extension": ".py",
   "mimetype": "text/x-python",
   "name": "python",
   "nbconvert_exporter": "python",
   "pygments_lexer": "ipython3",
   "version": "3.11.5"
  }
 },
 "nbformat": 4,
 "nbformat_minor": 5
}
