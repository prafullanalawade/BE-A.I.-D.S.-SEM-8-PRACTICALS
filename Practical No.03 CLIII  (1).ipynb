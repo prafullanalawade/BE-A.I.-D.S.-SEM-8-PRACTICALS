{
 "cells": [
  {
   "cell_type": "code",
   "execution_count": null,
   "id": "65df1336-31d3-4b04-ab02-0cccf9497eac",
   "metadata": {},
   "outputs": [],
   "source": [
    "Name -Nalawade Prafulla Chandrashekhar.\n",
    "Class - BE Artificial Intelligence and Data Science.\n",
    "Roll No. - 42\n",
    "Practical No. 03 - Implement Union, Intersection, Complement and Difference operations on fuzzy sets. Also \n",
    "create fuzzy relations by Cartesian product of any two fuzzy sets and perform max-min \n",
    "composition on any two fuzzy relations. "
   ]
  },
  {
   "cell_type": "code",
   "execution_count": 1,
   "id": "07d2f53f-31c3-4726-b50a-24873f74d80f",
   "metadata": {},
   "outputs": [],
   "source": [
    "import numpy as np"
   ]
  },
  {
   "cell_type": "code",
   "execution_count": 2,
   "id": "9dad7f63-444b-40da-983e-967b7d5a7652",
   "metadata": {},
   "outputs": [],
   "source": [
    "# Function to perform Union operation on fuzzy sets\n",
    "def fuzzy_union(A, B):\n",
    "    return np.maximum(A, B)"
   ]
  },
  {
   "cell_type": "code",
   "execution_count": 3,
   "id": "0bf88739-d6ba-4ccd-9fa3-061eb1dd7d63",
   "metadata": {},
   "outputs": [],
   "source": [
    "# Function to perform Intersection operation on fuzzy sets\n",
    "def fuzzy_intersection(A, B):\n",
    "    return np.minimum(A, B)"
   ]
  },
  {
   "cell_type": "code",
   "execution_count": 4,
   "id": "017f8642-b856-40a0-b563-c4170ea09068",
   "metadata": {},
   "outputs": [],
   "source": [
    "# Function to perform Complement operation on a fuzzy set\n",
    "def fuzzy_complement(A):\n",
    "    return 1 - A"
   ]
  },
  {
   "cell_type": "code",
   "execution_count": 5,
   "id": "a29a7df3-e48f-42ea-9a68-77b0e868ae07",
   "metadata": {},
   "outputs": [],
   "source": [
    "# Function to perform Difference operation on fuzzy sets\n",
    "def fuzzy_difference(A, B):\n",
    "    return np.maximum(A, 1 - B)"
   ]
  },
  {
   "cell_type": "code",
   "execution_count": 6,
   "id": "de966b32-6255-4de1-a627-cb4e0ca5fa28",
   "metadata": {},
   "outputs": [],
   "source": [
    "# Function to create fuzzy relation by Cartesian product of two fuzzy sets\n",
    "def cartesian_product(A, B):\n",
    "    return np.outer(A, B)"
   ]
  },
  {
   "cell_type": "code",
   "execution_count": 7,
   "id": "483dfe9c-bb4c-416b-bf37-5eec15087d24",
   "metadata": {},
   "outputs": [],
   "source": [
    "# Function to perform Max-Min composition on two fuzzy relations\n",
    "def max_min_composition(R, S):\n",
    "    return np.max(np.minimum.outer(R, S), axis=1)"
   ]
  },
  {
   "cell_type": "code",
   "execution_count": 11,
   "id": "e701b739-f84a-47d0-8737-6b9a9ef06ec4",
   "metadata": {},
   "outputs": [],
   "source": [
    "# Example usage\n",
    "A = np.array([0.2, 0.4, 0.6, 0.8])  # Fuzzy set A\n",
    "B = np.array([0.3, 0.5, 0.7, 0.9])  # Fuzzy set B"
   ]
  },
  {
   "cell_type": "code",
   "execution_count": 12,
   "id": "804b3090-8439-4aa4-b492-1068ad5d994d",
   "metadata": {},
   "outputs": [],
   "source": [
    "# Operations on fuzzy sets\n",
    "union_result = fuzzy_union(A, B)\n",
    "intersection_result = fuzzy_intersection(A, B)\n",
    "complement_A = fuzzy_complement(A)\n",
    "difference_result = fuzzy_difference(A, B)"
   ]
  },
  {
   "cell_type": "code",
   "execution_count": 13,
   "id": "7c5e5534-5fb7-467f-a9af-63642cb7c36b",
   "metadata": {},
   "outputs": [
    {
     "name": "stdout",
     "output_type": "stream",
     "text": [
      "Union: [0.3 0.5 0.7 0.9]\n",
      "Intersection: [0.2 0.4 0.6 0.8]\n",
      "Complement of A: [0.8 0.6 0.4 0.2]\n",
      "Difference: [0.7 0.5 0.6 0.8]\n"
     ]
    }
   ],
   "source": [
    "print(\"Union:\", union_result)\n",
    "print(\"Intersection:\", intersection_result)\n",
    "print(\"Complement of A:\", complement_A)\n",
    "print(\"Difference:\", difference_result)"
   ]
  },
  {
   "cell_type": "code",
   "execution_count": 14,
   "id": "2c0dbf89-4502-4013-9b5b-2f4635390bf5",
   "metadata": {},
   "outputs": [],
   "source": [
    "# Fuzzy relations\n",
    "R = np.array([0.2, 0.5, 0.4])  # Fuzzy relation R\n",
    "S = np.array([0.6, 0.3, 0.7])  # Fuzzy relation S"
   ]
  },
  {
   "cell_type": "code",
   "execution_count": 15,
   "id": "9daf19cf-8e94-4608-99ea-35554763a879",
   "metadata": {},
   "outputs": [],
   "source": [
    "# Cartesian product of fuzzy relations\n",
    "cartesian_result = cartesian_product(R, S)"
   ]
  },
  {
   "cell_type": "code",
   "execution_count": 16,
   "id": "cb950f6c-004f-402b-aaf9-8fef474b4b7e",
   "metadata": {},
   "outputs": [],
   "source": [
    "# Max-Min composition of fuzzy relations\n",
    "composition_result = max_min_composition(R, S)"
   ]
  },
  {
   "cell_type": "code",
   "execution_count": 17,
   "id": "9bff4947-a5a8-4525-bb86-b70260ffaa7b",
   "metadata": {},
   "outputs": [
    {
     "name": "stdout",
     "output_type": "stream",
     "text": [
      "Cartesian product of R and S:\n",
      "[[0.12 0.06 0.14]\n",
      " [0.3  0.15 0.35]\n",
      " [0.24 0.12 0.28]]\n"
     ]
    }
   ],
   "source": [
    "print(\"Cartesian product of R and S:\")\n",
    "print(cartesian_result)"
   ]
  },
  {
   "cell_type": "code",
   "execution_count": 18,
   "id": "52cecc3a-d9be-4930-a293-31c7cee65d87",
   "metadata": {},
   "outputs": [
    {
     "name": "stdout",
     "output_type": "stream",
     "text": [
      "Max-Min composition of R and S:\n",
      "[0.2 0.5 0.4]\n"
     ]
    }
   ],
   "source": [
    "print(\"Max-Min composition of R and S:\")\n",
    "print(composition_result)"
   ]
  }
 ],
 "metadata": {
  "kernelspec": {
   "display_name": "Python 3 (ipykernel)",
   "language": "python",
   "name": "python3"
  },
  "language_info": {
   "codemirror_mode": {
    "name": "ipython",
    "version": 3
   },
   "file_extension": ".py",
   "mimetype": "text/x-python",
   "name": "python",
   "nbconvert_exporter": "python",
   "pygments_lexer": "ipython3",
   "version": "3.11.5"
  }
 },
 "nbformat": 4,
 "nbformat_minor": 5
}
