{
 "cells": [
  {
   "cell_type": "code",
   "execution_count": null,
   "id": "c0b064d9-4bde-4c4e-bf91-1af56bab3655",
   "metadata": {},
   "outputs": [],
   "source": [
    "# Name - Nalawade Prafulla Chandrashekhar.\n",
    "# Class - BE Artificial Intelligence and Data Science.\n",
    "# Roll No. - 42\n",
    "# Practical No.08 - Implement DEAP (Distributed Evolutionary Algorithms) using Python. "
   ]
  },
  {
   "cell_type": "code",
   "execution_count": 2,
   "id": "b9a22406-3f9a-47bd-aeb9-459532b7f267",
   "metadata": {},
   "outputs": [],
   "source": [
    "# Import Required Libraries"
   ]
  },
  {
   "cell_type": "code",
   "execution_count": 3,
   "id": "ed22968a-5d73-4649-b688-2a5c9efc1f04",
   "metadata": {},
   "outputs": [],
   "source": [
    "import random\n",
    "from deap import base, creator, tools, algorithms\n",
    "import numpy as np"
   ]
  },
  {
   "cell_type": "code",
   "execution_count": 4,
   "id": "0cf6a46d-b1f6-4125-b021-459693867c70",
   "metadata": {},
   "outputs": [],
   "source": [
    "# Define the evaluation function (minimize a simple mathematical function)\n",
    "def eval_func(individual):\n",
    "# Example evaluation function (minimize a quadratic function)\n",
    "    return sum(x ** 2 for x in individual),"
   ]
  },
  {
   "cell_type": "code",
   "execution_count": 5,
   "id": "f0e0354b-3be5-48c1-a498-059f710abe02",
   "metadata": {},
   "outputs": [],
   "source": [
    "# DEAP setup\n",
    "creator.create(\"FitnessMin\", base.Fitness, weights=(-1.0,))\n",
    "creator.create(\"Individual\", list, fitness=creator.FitnessMin)"
   ]
  },
  {
   "cell_type": "code",
   "execution_count": 6,
   "id": "14676bdd-3286-4d3d-af10-1d25deee29b3",
   "metadata": {},
   "outputs": [],
   "source": [
    "toolbox = base.Toolbox()"
   ]
  },
  {
   "cell_type": "code",
   "execution_count": 7,
   "id": "31659a39-9242-4d4c-8d7b-0c35ed9bea98",
   "metadata": {},
   "outputs": [],
   "source": [
    "# Define attributes and individuals\n",
    "toolbox.register(\"attr_float\", random.uniform, -5.0, 5.0)  # Example: Float values between -5 and 5\n",
    "toolbox.register(\"individual\", tools.initRepeat, creator.Individual, toolbox.attr_float, n=3)  # Example: 3-dimensional individual\n",
    "toolbox.register(\"population\", tools.initRepeat, list, toolbox.individual)"
   ]
  },
  {
   "cell_type": "code",
   "execution_count": 8,
   "id": "d00cedad-bf53-4705-aa03-c237e7ecba22",
   "metadata": {},
   "outputs": [],
   "source": [
    "# Evaluation function and genetic operators\n",
    "toolbox.register(\"evaluate\", eval_func)\n",
    "toolbox.register(\"mate\", tools.cxBlend, alpha=0.5)\n",
    "toolbox.register(\"mutate\", tools.mutGaussian, mu=0, sigma=1, indpb=0.2)\n",
    "toolbox.register(\"select\", tools.selTournament, tournsize=3)"
   ]
  },
  {
   "cell_type": "code",
   "execution_count": 9,
   "id": "2e64bf6d-7304-4267-93aa-fb7896d7f00d",
   "metadata": {},
   "outputs": [],
   "source": [
    "# Create population\n",
    "population = toolbox.population(n=50)"
   ]
  },
  {
   "cell_type": "code",
   "execution_count": 10,
   "id": "5b8eb95b-2475-410f-8bc1-f417b4108a13",
   "metadata": {},
   "outputs": [],
   "source": [
    "# Genetic Algorithm parameters\n",
    "generations = 20"
   ]
  },
  {
   "cell_type": "code",
   "execution_count": 11,
   "id": "869deb69-bf73-4a8e-8a19-7a6984cad031",
   "metadata": {},
   "outputs": [],
   "source": [
    "# Run the algorithm\n",
    "for gen in range(generations):\n",
    "    offspring = algorithms.varAnd(population, toolbox, cxpb=0.5, mutpb=0.1)\n",
    "    \n",
    "    fits = toolbox.map(toolbox.evaluate, offspring)\n",
    "    for fit, ind in zip(fits, offspring):\n",
    "        ind.fitness.values = fit\n",
    "    \n",
    "    population = toolbox.select(offspring, k=len(population))"
   ]
  },
  {
   "cell_type": "code",
   "execution_count": 12,
   "id": "38093efe-0b67-4f1d-ab53-f430c32d8d99",
   "metadata": {},
   "outputs": [
    {
     "name": "stdout",
     "output_type": "stream",
     "text": [
      "Best individual: [0.015090776125539648, -0.02898127643988327, 0.02254207178281646]\n",
      "Best fitness: 0.0015757909084177404\n"
     ]
    }
   ],
   "source": [
    "# Get the best individual after generations\n",
    "best_ind = tools.selBest(population, k=1)[0]\n",
    "best_fitness = best_ind.fitness.values[0]\n",
    " \n",
    "print(\"Best individual:\", best_ind)\n",
    "print(\"Best fitness:\", best_fitness)"
   ]
  }
 ],
 "metadata": {
  "kernelspec": {
   "display_name": "Python 3 (ipykernel)",
   "language": "python",
   "name": "python3"
  },
  "language_info": {
   "codemirror_mode": {
    "name": "ipython",
    "version": 3
   },
   "file_extension": ".py",
   "mimetype": "text/x-python",
   "name": "python",
   "nbconvert_exporter": "python",
   "pygments_lexer": "ipython3",
   "version": "3.11.5"
  }
 },
 "nbformat": 4,
 "nbformat_minor": 5
}
